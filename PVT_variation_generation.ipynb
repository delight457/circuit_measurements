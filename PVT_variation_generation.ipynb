{
 "metadata": {
  "language_info": {
   "codemirror_mode": {
    "name": "ipython",
    "version": 3
   },
   "file_extension": ".py",
   "mimetype": "text/x-python",
   "name": "python",
   "nbconvert_exporter": "python",
   "pygments_lexer": "ipython3",
   "version": "3.8.5-final"
  },
  "orig_nbformat": 2,
  "kernelspec": {
   "name": "Python 3.8.5 64-bit ('graph_networks_2020': conda)",
   "display_name": "Python 3.8.5 64-bit ('graph_networks_2020': conda)",
   "metadata": {
    "interpreter": {
     "hash": "4843c87440ae38618cb8664cce41212b05413349e326501524425706b44cda8a"
    }
   }
  }
 },
 "nbformat": 4,
 "nbformat_minor": 2,
 "cells": [
  {
   "cell_type": "code",
   "execution_count": 101,
   "metadata": {},
   "outputs": [],
   "source": [
    "import numpy as np"
   ]
  },
  {
   "cell_type": "code",
   "execution_count": 102,
   "metadata": {},
   "outputs": [],
   "source": [
    "BIT_LENGTH = 8\n",
    "PROCESS_VARIATION = 0.01 # 1% process variation"
   ]
  },
  {
   "cell_type": "code",
   "execution_count": 103,
   "metadata": {},
   "outputs": [],
   "source": [
    "# Extracted parasitic capacitance values for MOM (Metal-Oxide-Metal) caps.\n",
    "# Units : [fF]\n",
    "\n",
    "cap = np.zeros(BIT_LENGTH + 1)\n",
    "\n",
    "cap[0] = 0.497052 # 5f\n",
    "cap[1] = 0.994103 # 10f\n",
    "cap[2] = 1.98821 # 10f\n",
    "cap[3] = 3.97641 # 17f\n",
    "cap[4] = 7.95482 # 17f\n",
    "cap[5] = 15.9083 # 27f\n",
    "cap[6] = 31.8166 # 43f\n",
    "cap[7] = 63.6333 # 70f\n",
    "\n",
    "cap[8] = 136.759"
   ]
  },
  {
   "cell_type": "code",
   "execution_count": 104,
   "metadata": {},
   "outputs": [
    {
     "output_type": "stream",
     "name": "stdout",
     "text": [
      "[  1.           1.99999799   4.00000402   7.99998793  16.00399958\n  32.00530327  64.01060654 128.02141426 275.14022678]\n"
     ]
    }
   ],
   "source": [
    "print(cap / cap[0])"
   ]
  },
  {
   "cell_type": "code",
   "execution_count": 105,
   "metadata": {},
   "outputs": [],
   "source": [
    "def generate_variated_parameter(cap_value):\n",
    "    return np.random.normal(cap_value, cap_value * PROCESS_VARIATION, 2)"
   ]
  },
  {
   "cell_type": "code",
   "execution_count": 98,
   "metadata": {},
   "outputs": [
    {
     "output_type": "stream",
     "name": "stdout",
     "text": [
      "Desired length random binary string is:  000100011\n"
     ]
    }
   ],
   "source": [
    "# Python program for random \n",
    "# binary string generation \n",
    "# https://www.geeksforgeeks.org/python-program-to-generate-random-binary-string/\n",
    "  \n",
    "import random \n",
    "  \n",
    "  \n",
    "# Function to create the \n",
    "# random binary string \n",
    "def rand_key(p): \n",
    "    \n",
    "    # Variable to store the  \n",
    "    # string \n",
    "    key1 = \"\" \n",
    "  \n",
    "    # Loop to find the string \n",
    "    # of desired length \n",
    "    for i in range(p): \n",
    "          \n",
    "        # randint function to generate \n",
    "        # 0, 1 randomly and converting  \n",
    "        # the result into str \n",
    "        temp = str(random.randint(0, 1)) \n",
    "  \n",
    "        # Concatenatin the random 0, 1 \n",
    "        # to the final result \n",
    "        key1 += temp \n",
    "          \n",
    "    return(key1) \n",
    "  \n",
    "# Driver Code \n",
    "n = 9\n",
    "str1 = rand_key(n) \n",
    "print(\"Desired length random binary string is: \", str1) "
   ]
  },
  {
   "cell_type": "code",
   "execution_count": 99,
   "metadata": {},
   "outputs": [],
   "source": [
    "variated_cap = []\n",
    "\n",
    "for i in range(BIT_LENGTH + 1):\n",
    "    variated_cap.append(generate_variated_parameter(cap[i]))"
   ]
  },
  {
   "cell_type": "code",
   "execution_count": 107,
   "metadata": {},
   "outputs": [
    {
     "output_type": "stream",
     "name": "stdout",
     "text": [
      "[0.48923676 0.4976711 ]\n[1.0050053  0.99984972]\n[1.99946964 1.98735308]\n[4.01087637 3.96027498]\n[7.99435053 7.97219088]\n[15.5642035  16.00171432]\n[31.35296863 31.42301439]\n[63.02187298 63.99021205]\n[135.81570318 138.04845056]\n"
     ]
    }
   ],
   "source": [
    "for i in range(9):\n",
    "    print(variated_cap[i])"
   ]
  },
  {
   "cell_type": "code",
   "execution_count": 93,
   "metadata": {},
   "outputs": [
    {
     "output_type": "stream",
     "name": "stdout",
     "text": [
      "CDAC D_n[0] cap:        0.49522\nCDAC D_n[1] cap:        0.97440\nCDAC D_n[2] cap:        2.07948\nCDAC D_n[3] cap:        3.94015\nCDAC D_n[4] cap:        8.02905\nCDAC D_n[5] cap:       15.93242\nCDAC D_n[6] cap:       32.05764\nCDAC D_n[7] cap:       65.02280\nAttenuation Cap (n):  136.43216\n\n\nCDAC D_p[0] cap:        0.49614\nCDAC D_p[1] cap:        1.02186\nCDAC D_p[2] cap:        2.03267\nCDAC D_p[3] cap:        3.91345\nCDAC D_p[4] cap:        8.32147\nCDAC D_p[5] cap:       16.11899\nCDAC D_p[6] cap:       30.03935\nCDAC D_p[7] cap:       62.49119\nAttenuation Cap (p):  138.31236\n"
     ]
    }
   ],
   "source": [
    "# Use this value to the differential input pait\n",
    "\n",
    "print(\"CDAC D_n[0] cap:      {:9.5f}\".format(variated_cap[0][int(str1[0])]))\n",
    "print(\"CDAC D_n[1] cap:      {:9.5f}\".format(variated_cap[1][int(str1[1])]))\n",
    "print(\"CDAC D_n[2] cap:      {:9.5f}\".format(variated_cap[2][int(str1[2])]))\n",
    "print(\"CDAC D_n[3] cap:      {:9.5f}\".format(variated_cap[3][int(str1[3])]))\n",
    "print(\"CDAC D_n[4] cap:      {:9.5f}\".format(variated_cap[4][int(str1[4])]))\n",
    "print(\"CDAC D_n[5] cap:      {:9.5f}\".format(variated_cap[5][int(str1[5])]))\n",
    "print(\"CDAC D_n[6] cap:      {:9.5f}\".format(variated_cap[6][int(str1[6])]))\n",
    "print(\"CDAC D_n[7] cap:      {:9.5f}\".format(variated_cap[7][int(str1[7])]))\n",
    "print(\"Attenuation Cap (n):  {:9.5f}\".format(variated_cap[8][int(str1[8])]))\n",
    "\n",
    "print(\"\\n\")\n",
    "\n",
    "print(\"CDAC D_p[0] cap:      {:9.5f}\".format(variated_cap[0][1-int(str1[0])]))\n",
    "print(\"CDAC D_p[1] cap:      {:9.5f}\".format(variated_cap[1][1-int(str1[1])]))\n",
    "print(\"CDAC D_p[2] cap:      {:9.5f}\".format(variated_cap[2][1-int(str1[2])]))\n",
    "print(\"CDAC D_p[3] cap:      {:9.5f}\".format(variated_cap[3][1-int(str1[3])]))\n",
    "print(\"CDAC D_p[4] cap:      {:9.5f}\".format(variated_cap[4][1-int(str1[4])]))\n",
    "print(\"CDAC D_p[5] cap:      {:9.5f}\".format(variated_cap[5][1-int(str1[5])]))\n",
    "print(\"CDAC D_p[6] cap:      {:9.5f}\".format(variated_cap[6][1-int(str1[6])]))\n",
    "print(\"CDAC D_p[7] cap:      {:9.5f}\".format(variated_cap[7][1-int(str1[7])]))\n",
    "print(\"Attenuation Cap (p):  {:9.5f}\".format(variated_cap[8][1-int(str1[8])]))"
   ]
  },
  {
   "cell_type": "code",
   "execution_count": null,
   "metadata": {},
   "outputs": [],
   "source": []
  }
 ]
}