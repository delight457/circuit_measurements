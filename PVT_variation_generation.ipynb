{
 "metadata": {
  "language_info": {
   "codemirror_mode": {
    "name": "ipython",
    "version": 3
   },
   "file_extension": ".py",
   "mimetype": "text/x-python",
   "name": "python",
   "nbconvert_exporter": "python",
   "pygments_lexer": "ipython3",
   "version": "3.8.5-final"
  },
  "orig_nbformat": 2,
  "kernelspec": {
   "name": "Python 3.8.5 64-bit ('graph_networks_2020': conda)",
   "display_name": "Python 3.8.5 64-bit ('graph_networks_2020': conda)",
   "metadata": {
    "interpreter": {
     "hash": "4843c87440ae38618cb8664cce41212b05413349e326501524425706b44cda8a"
    }
   }
  }
 },
 "nbformat": 4,
 "nbformat_minor": 2,
 "cells": [
  {
   "cell_type": "code",
   "execution_count": 34,
   "metadata": {},
   "outputs": [],
   "source": [
    "import numpy as np"
   ]
  },
  {
   "cell_type": "code",
   "execution_count": 35,
   "metadata": {},
   "outputs": [],
   "source": [
    "BIT_LENGTH = 8\n",
    "PROCESS_VARIATION = 0.03 # 1% process variation"
   ]
  },
  {
   "cell_type": "code",
   "execution_count": 36,
   "metadata": {},
   "outputs": [],
   "source": [
    "# Extracted parasitic capacitance values for MOM (Metal-Oxide-Metal) caps.\n",
    "# Units : [fF]\n",
    "\n",
    "cap = np.zeros(BIT_LENGTH)\n",
    "\n",
    "cap[0] = 0.497052 # 5f\n",
    "cap[1] = 0.994103 # 10f\n",
    "cap[2] = 1.98821 # 10f\n",
    "cap[3] = 3.97641 # 17f\n",
    "cap[4] = 7.95482 # 17f\n",
    "cap[5] = 15.9083 # 27f\n",
    "cap[6] = 31.8166 # 43f\n",
    "cap[7] = 63.6333 # 70f\n",
    "\n",
    "cap_input = 136.759"
   ]
  },
  {
   "cell_type": "code",
   "execution_count": 37,
   "metadata": {},
   "outputs": [
    {
     "output_type": "stream",
     "name": "stdout",
     "text": [
      "[  1.           1.99999799   4.00000402   7.99998793  16.00399958\n  32.00530327  64.01060654 128.02141426]\n"
     ]
    }
   ],
   "source": [
    "print(cap / cap[0])"
   ]
  },
  {
   "cell_type": "code",
   "execution_count": 38,
   "metadata": {},
   "outputs": [],
   "source": [
    "def generate_variated_parameter(cap_value):\n",
    "    return np.random.normal(cap_value, cap_value * PROCESS_VARIATION, 2)"
   ]
  },
  {
   "cell_type": "code",
   "execution_count": 44,
   "metadata": {},
   "outputs": [
    {
     "output_type": "stream",
     "name": "stdout",
     "text": [
      "Desired length random binary string is:  101000100\n"
     ]
    }
   ],
   "source": [
    "# Python program for random \n",
    "# binary string generation \n",
    "# https://www.geeksforgeeks.org/python-program-to-generate-random-binary-string/\n",
    "  \n",
    "import random \n",
    "  \n",
    "  \n",
    "# Function to create the \n",
    "# random binary string \n",
    "def rand_key(p): \n",
    "    \n",
    "    # Variable to store the  \n",
    "    # string \n",
    "    key1 = \"\" \n",
    "  \n",
    "    # Loop to find the string \n",
    "    # of desired length \n",
    "    for i in range(p): \n",
    "          \n",
    "        # randint function to generate \n",
    "        # 0, 1 randomly and converting  \n",
    "        # the result into str \n",
    "        temp = str(random.randint(0, 1)) \n",
    "  \n",
    "        # Concatenatin the random 0, 1 \n",
    "        # to the final result \n",
    "        key1 += temp \n",
    "          \n",
    "    return(key1) \n",
    "  \n",
    "# Driver Code \n",
    "n = 9\n",
    "str1 = rand_key(n) \n",
    "print(\"Desired length random binary string is: \", str1) "
   ]
  },
  {
   "cell_type": "code",
   "execution_count": 57,
   "metadata": {},
   "outputs": [
    {
     "output_type": "stream",
     "name": "stdout",
     "text": [
      "CDAC D[0] cap:     0.479922690710086\nCDAC D[1] cap:     1.0354079206920923\nCDAC D[2] cap:     2.041707099307456\nCDAC D[3] cap:     4.009670896728567\nCDAC D[4] cap:     8.12717621272132\nCDAC D[5] cap:     15.31051820421579\nCDAC D[6] cap:     31.587529881238424\nCDAC D[7] cap:     64.63555779280856\nAttenuation Cap:   132.73870095347638\n"
     ]
    }
   ],
   "source": [
    "# Use this value to the differential input pait\n",
    "\n",
    "print(\"CDAC D[0] cap:    \", generate_variated_parameter(cap[0])[int(str1[0])])\n",
    "print(\"CDAC D[1] cap:    \", generate_variated_parameter(cap[1])[int(str1[1])])\n",
    "print(\"CDAC D[2] cap:    \", generate_variated_parameter(cap[2])[int(str1[2])])\n",
    "print(\"CDAC D[3] cap:    \", generate_variated_parameter(cap[3])[int(str1[3])])\n",
    "print(\"CDAC D[4] cap:    \", generate_variated_parameter(cap[4])[int(str1[4])])\n",
    "print(\"CDAC D[5] cap:    \", generate_variated_parameter(cap[5])[int(str1[5])])\n",
    "print(\"CDAC D[6] cap:    \", generate_variated_parameter(cap[6])[int(str1[6])])\n",
    "print(\"CDAC D[7] cap:    \", generate_variated_parameter(cap[7])[int(str1[7])])\n",
    "print(\"Attenuation Cap:  \", generate_variated_parameter(cap_input)[int(str1[8])])"
   ]
  },
  {
   "cell_type": "code",
   "execution_count": null,
   "metadata": {},
   "outputs": [],
   "source": []
  }
 ]
}